{
 "cells": [
  {
   "cell_type": "markdown",
   "id": "2d86de13-78ee-443b-b201-140fdde869e7",
   "metadata": {
    "user_expressions": []
   },
   "source": [
    "# Model Evaluation\n",
    "Please make sure to change the path when loading data and model."
   ]
  },
  {
   "cell_type": "code",
   "execution_count": 13,
   "id": "32ec58c3-4e58-42ed-97bf-e65bdc4c3c63",
   "metadata": {},
   "outputs": [],
   "source": [
    "import torch\n",
    "import json\n",
    "import requests\n",
    "from torch.utils.data import DataLoader\n",
    "from transformers import BertTokenizerFast, BertForQuestionAnswering\n",
    "from tqdm import tqdm"
   ]
  },
  {
   "cell_type": "markdown",
   "id": "20f342e0-e2ea-42f2-aca4-38c6665516a1",
   "metadata": {
    "user_expressions": []
   },
   "source": [
    "## Load Data"
   ]
  },
  {
   "cell_type": "code",
   "execution_count": 14,
   "id": "85030ae8-ae90-4dfa-9c26-ab703ad13adf",
   "metadata": {},
   "outputs": [],
   "source": [
    "def read_data(path):\n",
    "    \"\"\"\n",
    "    Read SQuAD data from a JSON file.\n",
    "\n",
    "    Parameters:\n",
    "    - path: Path to the JSON file containing SQuAD data\n",
    "\n",
    "    Returns:\n",
    "    - contexts: List of contexts (passages)\n",
    "    - questions: List of questions\n",
    "    - answers: List of answers\n",
    "    \"\"\"\n",
    "    # Open the JSON file and load the data\n",
    "    with open(path, 'r', encoding='utf-8') as f:\n",
    "        squad = json.load(f)\n",
    "\n",
    "    # Initialize lists to store contexts, questions, and answers\n",
    "    contexts = []\n",
    "    questions = []\n",
    "    answers = []\n",
    "\n",
    "    # Iterate over groups in the SQuAD data\n",
    "    for group in squad.get('data', []):\n",
    "        # Iterate over paragraphs in the group\n",
    "        for passage in group.get('paragraphs', []):\n",
    "            # Get the context (passage)\n",
    "            context = passage.get('context', '')\n",
    "            # Iterate over questions and answers in the paragraph\n",
    "            for qa in passage.get('qas', []):\n",
    "                # Get the question\n",
    "                question = qa.get('question', '')\n",
    "                # Iterate over answers for the question\n",
    "                for answer in qa.get('answers', []):\n",
    "                    # Append context, question, and answer to their respective lists\n",
    "                    contexts.append(context)\n",
    "                    questions.append(question)\n",
    "                    answers.append(answer)\n",
    "\n",
    "    # Return the lists of contexts, questions, and answers\n",
    "    return contexts, questions, answers\n",
    "\n",
    "def add_end_index(answers, contexts):\n",
    "    for answer, context in zip(answers, contexts):\n",
    "        gold_text = answer['text']\n",
    "        start_idx = answer['answer_start']\n",
    "        end_idx = start_idx + len(gold_text)\n",
    "\n",
    "        # Check if the answer is correctly positioned\n",
    "        for offset in [0, -1, -2]:\n",
    "            if context[start_idx + offset:end_idx + offset] == gold_text:\n",
    "                # Update answer start and end indices\n",
    "                answer['answer_start'] = start_idx + offset\n",
    "                answer['answer_end'] = end_idx + offset\n",
    "                break  # Break loop once correct offset is found\n",
    "\n",
    "def add_token_positions(encodings, answers):\n",
    "    \"\"\"\n",
    "    Adds token positions for answers to encodings.\n",
    "\n",
    "    Parameters:\n",
    "    - encodings: Encodings object containing tokenized inputs\n",
    "    - answers: List of dictionaries containing answer positions\n",
    "\n",
    "    Returns:\n",
    "    None (modifies encodings in place)\n",
    "    \"\"\"\n",
    "    start_positions = []\n",
    "    end_positions = []\n",
    "\n",
    "    # Loop through each answer\n",
    "    for i, answer in enumerate(answers):\n",
    "        # Convert character positions to token positions\n",
    "        start_positions.append(encodings.char_to_token(i, answer['answer_start']))\n",
    "        end_positions.append(encodings.char_to_token(i, answer['answer_end'] - 1))\n",
    "\n",
    "        # Handle cases where answer passage has been truncated\n",
    "        if start_positions[-1] is None:\n",
    "            start_positions[-1] = tokenizer.model_max_length\n",
    "        if end_positions[-1] is None:\n",
    "            end_positions[-1] = tokenizer.model_max_length\n",
    "\n",
    "    # Update encodings with start and end positions\n",
    "    encodings.update({'start_positions': start_positions, 'end_positions': end_positions})\n",
    "\n",
    "class SQuAD_Dataset(torch.utils.data.Dataset):\n",
    "    \"\"\"\n",
    "    Custom dataset class for SQuAD.\n",
    "\n",
    "    Parameters:\n",
    "    - encodings: Encodings object containing tokenized inputs\n",
    "    \"\"\"\n",
    "    def __init__(self, encodings):\n",
    "        self.encodings = encodings\n",
    "\n",
    "    def __getitem__(self, idx):\n",
    "        \"\"\"\n",
    "        Retrieves an item from the dataset.\n",
    "\n",
    "        Parameters:\n",
    "        - idx: Index of the item to retrieve\n",
    "\n",
    "        Returns:\n",
    "        Dictionary containing tensors for each key in the encodings\n",
    "        \"\"\"\n",
    "        return {key: torch.tensor(val[idx]) for key, val in self.encodings.items()}\n",
    "\n",
    "    def __len__(self):\n",
    "        \"\"\"\n",
    "        Returns the length of the dataset.\n",
    "\n",
    "        Returns:\n",
    "        Integer representing the length of the dataset\n",
    "        \"\"\"\n",
    "        return len(self.encodings.input_ids)\n"
   ]
  },
  {
   "cell_type": "code",
   "execution_count": 15,
   "id": "5ec5eb31-b257-4ae2-b8f7-69395eb43b23",
   "metadata": {},
   "outputs": [],
   "source": [
    "# Read training data\n",
    "contexts, questions, answers = read_data('/accounts/grad/fangyuan_li/259/data/train-v2.0.json')\n",
    "# Read validation data\n",
    "valid_contexts, valid_questions, valid_answers = read_data('/accounts/grad/fangyuan_li/259/data/val-v2.0.json')\n",
    "# Split train-v2.0 into train and test sets\n",
    "train_contexts = contexts[5000:]\n",
    "train_questions = questions[5000:]\n",
    "train_answers = answers[5000:]\n",
    "\n",
    "test_contexts = contexts[:5000]\n",
    "test_questions = questions[:5000]\n",
    "test_answers = answers[:5000]\n",
    "\n",
    "# Add indexes\n",
    "add_end_index(train_answers, train_contexts)\n",
    "add_end_index(valid_answers, valid_contexts)\n",
    "add_end_index(test_answers, test_contexts)\n",
    "\n",
    "# Initialize tokenizer\n",
    "tokenizer = BertTokenizerFast.from_pretrained('bert-base-uncased')\n",
    "train_encodings = tokenizer(train_contexts, train_questions, truncation=True, padding=True)\n",
    "valid_encodings = tokenizer(valid_contexts, valid_questions, truncation=True, padding=True)\n",
    "test_encodings = tokenizer(test_contexts, test_questions, truncation=True, padding=True)\n",
    "\n",
    "# Add token positions for training data\n",
    "add_token_positions(train_encodings, train_answers)\n",
    "# Add token positions for validation data\n",
    "add_token_positions(valid_encodings, valid_answers)\n",
    "# Add token positions for test data\n",
    "add_token_positions(test_encodings, test_answers)\n",
    "\n",
    "# Create training dataset\n",
    "train_dataset = SQuAD_Dataset(train_encodings)\n",
    "# Create validation dataset\n",
    "valid_dataset = SQuAD_Dataset(valid_encodings)\n",
    "# Create test dataset\n",
    "test_dataset = SQuAD_Dataset(test_encodings)\n",
    "\n",
    "# Define the dataloaders\n",
    "# train_loader = DataLoader(train_dataset, batch_size=16, shuffle=True)\n",
    "# valid_loader = DataLoader(valid_dataset, batch_size=16)\n",
    "# test_loader = DataLoader(test_dataset, batch_size=16)"
   ]
  },
  {
   "cell_type": "markdown",
   "id": "5e4bae24-83d2-4f8d-ba66-9a5f86c010e7",
   "metadata": {
    "user_expressions": []
   },
   "source": [
    "## Load Model"
   ]
  },
  {
   "cell_type": "code",
   "execution_count": 16,
   "id": "36df2a4c-9c03-4df4-a324-7aec420940c4",
   "metadata": {},
   "outputs": [
    {
     "name": "stderr",
     "output_type": "stream",
     "text": [
      "Some weights of BertForQuestionAnswering were not initialized from the model checkpoint at bert-base-uncased and are newly initialized: ['qa_outputs.bias', 'qa_outputs.weight']\n",
      "You should probably TRAIN this model on a down-stream task to be able to use it for predictions and inference.\n"
     ]
    }
   ],
   "source": [
    "model = BertForQuestionAnswering.from_pretrained(\"./full_data/QLoRA2/\")"
   ]
  },
  {
   "cell_type": "code",
   "execution_count": 17,
   "id": "430e65f7-98e8-4d96-8516-8d96e50375b9",
   "metadata": {},
   "outputs": [
    {
     "name": "stdout",
     "output_type": "stream",
     "text": [
      "Working on cuda\n"
     ]
    }
   ],
   "source": [
    "# Check the available device and use GPU if available, otherwise use CPU\n",
    "device = torch.device('cuda') if torch.cuda.is_available() else torch.device('cpu')\n",
    "# Print the device being used\n",
    "print(f'Working on {device}')"
   ]
  },
  {
   "cell_type": "markdown",
   "id": "560dbc88-ad92-4dc6-ae58-71c7b9dd7e77",
   "metadata": {
    "user_expressions": []
   },
   "source": [
    "## Model Evaluation"
   ]
  },
  {
   "cell_type": "markdown",
   "id": "4086f2aa-e8e4-4f4f-a8e9-ee3b1b2f3763",
   "metadata": {
    "tags": [],
    "user_expressions": []
   },
   "source": [
    "### F1 Score"
   ]
  },
  {
   "cell_type": "code",
   "execution_count": 18,
   "id": "26a746f1-86ab-40b8-9c44-7598e7e20cdd",
   "metadata": {},
   "outputs": [],
   "source": [
    "def get_input(text):\n",
    "    input_ids = text['input_ids']\n",
    "    start_true = text['start_positions']\n",
    "    end_true = text['end_positions'] + 1\n",
    "    answer = tokenizer.convert_tokens_to_string(tokenizer.convert_ids_to_tokens(input_ids[start_true:end_true]))\n",
    "    return answer\n",
    "\n",
    "def get_prediction(text, device='cuda'):\n",
    "    input_ids = text['input_ids'].unsqueeze(0).to(device)\n",
    "    attention_mask = text['attention_mask'].unsqueeze(0).to(device)\n",
    "    # Forward pass through the model\n",
    "    outputs = model(input_ids, attention_mask=attention_mask)\n",
    "    # Get predicted start and end positions\n",
    "    start_pred = torch.argmax(outputs['start_logits'], dim=1)\n",
    "    end_pred = torch.argmax(outputs['end_logits'], dim=1) + 1\n",
    "    answer = tokenizer.convert_tokens_to_string(tokenizer.convert_ids_to_tokens(input_ids[0][start_pred:end_pred]))\n",
    "    return answer\n",
    "\n",
    "def normalize_text(s):\n",
    "    \"\"\"\n",
    "    Normalize text by removing articles, punctuation, and standardizing whitespace.\n",
    "\n",
    "    Parameters:\n",
    "    - s: Input text to be normalized\n",
    "\n",
    "    Returns:\n",
    "    - Normalized text\n",
    "    \"\"\"\n",
    "    import string, re\n",
    "\n",
    "    # Function to remove articles from text\n",
    "    def remove_articles(text):\n",
    "        regex = re.compile(r\"\\b(a|an|the)\\b\", re.UNICODE)\n",
    "        return re.sub(regex, \" \", text)\n",
    "\n",
    "    # Function to fix white space in text\n",
    "    def white_space_fix(text):\n",
    "        return \" \".join(text.split())\n",
    "\n",
    "    # Function to remove punctuation from text\n",
    "    def remove_punc(text):\n",
    "        exclude = set(string.punctuation)\n",
    "        return \"\".join(ch for ch in text if ch not in exclude)\n",
    "\n",
    "    # Function to convert text to lowercase\n",
    "    def lower(text):\n",
    "        return text.lower()\n",
    "\n",
    "    # Apply text normalization steps\n",
    "    return white_space_fix(remove_articles(remove_punc(lower(s))))\n",
    "\n",
    "def exact_match(prediction, truth):\n",
    "    \"\"\"\n",
    "    Compute exact match between predicted answer and true answer.\n",
    "\n",
    "    Parameters:\n",
    "    - prediction: Predicted answer\n",
    "    - truth: True answer\n",
    "\n",
    "    Returns:\n",
    "    - Boolean indicating whether the prediction exactly matches the truth\n",
    "    \"\"\"\n",
    "    return bool(normalize_text(prediction) == normalize_text(truth))\n",
    "\n",
    "def compute_f1(prediction, truth):\n",
    "    \"\"\"\n",
    "    Compute F1 score between predicted answer and true answer.\n",
    "\n",
    "    Parameters:\n",
    "    - prediction: Predicted answer\n",
    "    - truth: True answer\n",
    "\n",
    "    Returns:\n",
    "    - F1 score\n",
    "    \"\"\"\n",
    "    pred_tokens = normalize_text(prediction).split()\n",
    "    truth_tokens = normalize_text(truth).split()\n",
    "\n",
    "    # If either the prediction or the truth is no-answer then F1 score is 1 if they agree, 0 otherwise\n",
    "    if len(pred_tokens) == 0 or len(truth_tokens) == 0:\n",
    "        return int(pred_tokens == truth_tokens)\n",
    "\n",
    "    common_tokens = set(pred_tokens) & set(truth_tokens)\n",
    "\n",
    "    # If there are no common tokens then F1 score is 0\n",
    "    if len(common_tokens) == 0:\n",
    "        return 0\n",
    "\n",
    "    prec = len(common_tokens) / len(pred_tokens)\n",
    "    rec = len(common_tokens) / len(truth_tokens)\n",
    "\n",
    "    return round(2 * (prec * rec) / (prec + rec), 2)"
   ]
  },
  {
   "cell_type": "code",
   "execution_count": 19,
   "id": "7b5bbcd5-fbef-472c-8f04-3f7533879f68",
   "metadata": {},
   "outputs": [
    {
     "name": "stdout",
     "output_type": "stream",
     "text": [
      "num: 0 f1: 0.16 em:  0.0\n",
      "num: 500 f1: 0.8056087824351299 em:  0.7145708582834331\n",
      "num: 1000 f1: 0.8194405594405583 em:  0.7242757242757243\n",
      "num: 1500 f1: 0.8169420386409052 em:  0.72618254497002\n",
      "num: 2000 f1: 0.8089205397301347 em:  0.7126436781609196\n",
      "num: 2500 f1: 0.8037624950019994 em:  0.7085165933626549\n",
      "num: 3000 f1: 0.7995434855048351 em:  0.6917694101966011\n",
      "num: 3500 f1: 0.8031248214795813 em:  0.6966580976863753\n",
      "num: 4000 f1: 0.8080754811297219 em:  0.7048237940514871\n",
      "num: 4500 f1: 0.8048189291268663 em:  0.6965118862475006\n",
      "f1:  0.8011140000000058\n",
      "em:  0.693\n"
     ]
    }
   ],
   "source": [
    "model.eval()\n",
    "model = model.to(device)\n",
    "\n",
    "f1 = []\n",
    "em = []\n",
    "\n",
    "for i, text in enumerate(test_dataset):\n",
    "    # Get the true answer for the question\n",
    "    answer = get_input(text)\n",
    "    # Get the predicted answer for the question\n",
    "    prediction = get_prediction(text)\n",
    "    # Compute exact match score\n",
    "    em_score = exact_match(prediction, answer)\n",
    "    # Compute F1 score\n",
    "    f1_score = compute_f1(prediction, answer)\n",
    "\n",
    "    em.append(em_score)\n",
    "    f1.append(f1_score)\n",
    "    if (i % 500)==0:\n",
    "        print('num:', i, 'f1:', sum(f1) / len(f1), 'em: ', sum(em) / len(em))\n",
    "\n",
    "avg_f1 = sum(f1) / len(f1)\n",
    "exact_match = sum(em) / len(em)\n",
    "print('f1: ', avg_f1)\n",
    "print('em: ', exact_match)"
   ]
  },
  {
   "cell_type": "markdown",
   "id": "d387424e-036d-42b3-9fdd-d258aa0cbb68",
   "metadata": {
    "user_expressions": []
   },
   "source": [
    "### Accuracy"
   ]
  },
  {
   "cell_type": "code",
   "execution_count": 20,
   "id": "559e441a-b921-448c-9f6e-0058db440968",
   "metadata": {
    "tags": []
   },
   "outputs": [],
   "source": [
    "# Define the dataloaders\n",
    "train_loader = DataLoader(train_dataset, batch_size=16, shuffle=True)\n",
    "valid_loader = DataLoader(valid_dataset, batch_size=16)\n",
    "test_loader = DataLoader(test_dataset, batch_size=16)"
   ]
  },
  {
   "cell_type": "code",
   "execution_count": 21,
   "id": "e52d29d1-ff18-456b-8a53-1202ca4156d8",
   "metadata": {
    "tags": []
   },
   "outputs": [
    {
     "name": "stderr",
     "output_type": "stream",
     "text": [
      "100%|██████████| 313/313 [00:46<00:00,  6.71it/s]\n"
     ]
    },
    {
     "data": {
      "text/plain": [
       "0.7167531948881789"
      ]
     },
     "execution_count": 21,
     "metadata": {},
     "output_type": "execute_result"
    }
   ],
   "source": [
    "# Set the model to evaluation mode\n",
    "model.eval()\n",
    "\n",
    "# Initialize a list to store accuracy values\n",
    "acc = []\n",
    "\n",
    "# Iterate over batches in the validation data\n",
    "for batch in tqdm(test_loader):\n",
    "    with torch.no_grad():\n",
    "        # Move input tensors to the appropriate device\n",
    "        input_ids = batch['input_ids'].to(device)\n",
    "        attention_mask = batch['attention_mask'].to(device)\n",
    "        start_true = batch['start_positions'].to(device)\n",
    "        end_true = batch['end_positions'].to(device)\n",
    "\n",
    "        # Forward pass through the model\n",
    "        outputs = model(input_ids, attention_mask=attention_mask)\n",
    "\n",
    "        # Get predicted start and end positions\n",
    "        start_pred = torch.argmax(outputs['start_logits'], dim=1)\n",
    "        end_pred = torch.argmax(outputs['end_logits'], dim=1)\n",
    "\n",
    "        # Compute accuracy for start positions and end positions\n",
    "        acc.append(((start_pred == start_true).sum() / len(start_pred)).item())\n",
    "        acc.append(((end_pred == end_true).sum() / len(end_pred)).item())\n",
    "\n",
    "# Compute the average accuracy\n",
    "acc = sum(acc) / len(acc)\n",
    "acc"
   ]
  },
  {
   "cell_type": "code",
   "execution_count": null,
   "id": "39a8e91f-9670-4af9-b467-378cbeaa6b44",
   "metadata": {},
   "outputs": [],
   "source": []
  }
 ],
 "metadata": {
  "kernelspec": {
   "display_name": "Python 3 (ipykernel)",
   "language": "python",
   "name": "python3"
  },
  "language_info": {
   "codemirror_mode": {
    "name": "ipython",
    "version": 3
   },
   "file_extension": ".py",
   "mimetype": "text/x-python",
   "name": "python",
   "nbconvert_exporter": "python",
   "pygments_lexer": "ipython3",
   "version": "3.11.0"
  }
 },
 "nbformat": 4,
 "nbformat_minor": 5
}
